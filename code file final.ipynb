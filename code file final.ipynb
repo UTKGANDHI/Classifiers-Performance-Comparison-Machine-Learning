{
 "cells": [
  {
   "cell_type": "code",
   "execution_count": 1,
   "metadata": {},
   "outputs": [
    {
     "data": {
      "text/html": [
       "<div>\n",
       "<style>\n",
       "    .dataframe thead tr:only-child th {\n",
       "        text-align: right;\n",
       "    }\n",
       "\n",
       "    .dataframe thead th {\n",
       "        text-align: left;\n",
       "    }\n",
       "\n",
       "    .dataframe tbody tr th {\n",
       "        vertical-align: top;\n",
       "    }\n",
       "</style>\n",
       "<table border=\"1\" class=\"dataframe\">\n",
       "  <thead>\n",
       "    <tr style=\"text-align: right;\">\n",
       "      <th></th>\n",
       "      <th>age</th>\n",
       "      <th>year</th>\n",
       "      <th>nodes</th>\n",
       "      <th>status</th>\n",
       "    </tr>\n",
       "  </thead>\n",
       "  <tbody>\n",
       "  </tbody>\n",
       "</table>\n",
       "</div>"
      ],
      "text/plain": [
       "Empty DataFrame\n",
       "Columns: [age, year, nodes, status]\n",
       "Index: []"
      ]
     },
     "execution_count": 1,
     "metadata": {},
     "output_type": "execute_result"
    }
   ],
   "source": [
    "import numpy as np\n",
    "import pandas as pd\n",
    "attributes = ['age','year','nodes','status'] #taking attributes in an array\n",
    "\n",
    "# read csv into dataframe\n",
    "df = pd.read_csv(\"https://archive.ics.uci.edu/ml/machine-learning-databases/haberman/haberman.data\", names=attributes)\n",
    "\n",
    "# dropping null or NaN values\n",
    "df.dropna().head(0)\n"
   ]
  },
  {
   "cell_type": "code",
   "execution_count": 2,
   "metadata": {},
   "outputs": [],
   "source": [
    "# removing duplicate values\n",
    "df=df.drop_duplicates()\n"
   ]
  },
  {
   "cell_type": "code",
   "execution_count": 3,
   "metadata": {},
   "outputs": [],
   "source": [
    "from sklearn.preprocessing import StandardScaler\n",
    "scaler = StandardScaler()\n",
    "array = df.values\n",
    "X = array[:,0:3]\n",
    "Y = array[:,3]\n"
   ]
  },
  {
   "cell_type": "code",
   "execution_count": 4,
   "metadata": {},
   "outputs": [
    {
     "data": {
      "text/plain": [
       "72.41379310344827"
      ]
     },
     "execution_count": 4,
     "metadata": {},
     "output_type": "execute_result"
    }
   ],
   "source": [
    "\n",
    "# ------------------- SVM -----------------------\n",
    "\n",
    "# k-fold and cross-validation for SVM\n",
    "\n",
    "from sklearn.model_selection import KFold, cross_val_score,cross_val_predict\n",
    "k_fold = KFold(n_splits=10)\n",
    "\n",
    "for train_indices, test_indices in k_fold.split(X):\n",
    "    X_train,X_test=X[train_indices],X[test_indices]\n",
    "    Y_train,Y_test=Y[train_indices],Y[test_indices]\n",
    "\n",
    "from sklearn import svm\n",
    "clf = svm.SVC(kernel='sigmoid',gamma=0.1,coef0=1,decision_function_shape='ovo',probability=True)\n",
    "clf.fit(X_train, Y_train)\n",
    "clf.score(X_train,Y_train,sample_weight=None)*100\n"
   ]
  },
  {
   "cell_type": "code",
   "execution_count": 5,
   "metadata": {},
   "outputs": [
    {
     "data": {
      "text/plain": [
       "0.7235042735042736"
      ]
     },
     "execution_count": 5,
     "metadata": {},
     "output_type": "execute_result"
    }
   ],
   "source": [
    "scores=cross_val_score(clf,X_train,Y_train,cv=k_fold)\n",
    "scores.mean()\n"
   ]
  },
  {
   "cell_type": "code",
   "execution_count": 6,
   "metadata": {},
   "outputs": [
    {
     "data": {
      "text/plain": [
       "SVC(C=1.0, cache_size=200, class_weight=None, coef0=1,\n",
       "  decision_function_shape='ovo', degree=3, gamma=0.1, kernel='sigmoid',\n",
       "  max_iter=-1, probability=True, random_state=None, shrinking=True,\n",
       "  tol=0.001, verbose=False)"
      ]
     },
     "execution_count": 6,
     "metadata": {},
     "output_type": "execute_result"
    }
   ],
   "source": [
    "clf.fit(X_train, Y_train)\n"
   ]
  },
  {
   "cell_type": "code",
   "execution_count": 7,
   "metadata": {},
   "outputs": [
    {
     "data": {
      "text/plain": [
       "array([[ 54.,  59.,   7.],\n",
       "       [ 54.,  60.,   3.],\n",
       "       [ 54.,  66.,   0.],\n",
       "       [ 54.,  67.,  46.],\n",
       "       [ 54.,  62.,   0.],\n",
       "       [ 54.,  69.,   7.],\n",
       "       [ 54.,  63.,  19.],\n",
       "       [ 54.,  58.,   1.],\n",
       "       [ 55.,  58.,   1.],\n",
       "       [ 55.,  58.,   0.],\n",
       "       [ 55.,  66.,  18.],\n",
       "       [ 55.,  66.,   0.],\n",
       "       [ 55.,  69.,   3.],\n",
       "       [ 55.,  69.,  22.],\n",
       "       [ 55.,  67.,   1.],\n",
       "       [ 56.,  60.,   0.],\n",
       "       [ 56.,  66.,   2.],\n",
       "       [ 56.,  66.,   1.],\n",
       "       [ 56.,  67.,   0.],\n",
       "       [ 57.,  64.,   9.],\n",
       "       [ 57.,  69.,   0.],\n",
       "       [ 57.,  61.,   0.],\n",
       "       [ 57.,  62.,   0.],\n",
       "       [ 57.,  63.,   0.],\n",
       "       [ 57.,  64.,   0.],\n",
       "       [ 57.,  67.,   0.],\n",
       "       [ 58.,  59.,   0.],\n",
       "       [ 58.,  60.,   3.],\n",
       "       [ 58.,  61.,   1.],\n",
       "       [ 58.,  67.,   0.],\n",
       "       [ 58.,  58.,   0.],\n",
       "       [ 58.,  58.,   3.],\n",
       "       [ 58.,  61.,   2.],\n",
       "       [ 59.,  60.,   0.],\n",
       "       [ 59.,  63.,   0.],\n",
       "       [ 59.,  64.,   1.],\n",
       "       [ 59.,  64.,   4.],\n",
       "       [ 59.,  64.,   0.],\n",
       "       [ 59.,  64.,   7.],\n",
       "       [ 59.,  67.,   3.],\n",
       "       [ 60.,  61.,   1.],\n",
       "       [ 60.,  67.,   2.],\n",
       "       [ 60.,  61.,  25.],\n",
       "       [ 60.,  64.,   0.],\n",
       "       [ 61.,  59.,   0.],\n",
       "       [ 61.,  64.,   0.],\n",
       "       [ 61.,  65.,   8.],\n",
       "       [ 61.,  68.,   0.],\n",
       "       [ 62.,  62.,   6.],\n",
       "       [ 62.,  66.,   0.],\n",
       "       [ 62.,  58.,   0.],\n",
       "       [ 63.,  61.,   0.],\n",
       "       [ 63.,  62.,   0.],\n",
       "       [ 63.,  63.,   0.],\n",
       "       [ 63.,  66.,   0.],\n",
       "       [ 63.,  61.,   9.],\n",
       "       [ 63.,  61.,  28.],\n",
       "       [ 64.,  58.,   0.],\n",
       "       [ 64.,  65.,  22.],\n",
       "       [ 64.,  66.,   0.],\n",
       "       [ 64.,  61.,   0.],\n",
       "       [ 64.,  68.,   0.],\n",
       "       [ 65.,  58.,   0.],\n",
       "       [ 65.,  64.,   0.],\n",
       "       [ 65.,  67.,   0.],\n",
       "       [ 65.,  59.,   2.],\n",
       "       [ 65.,  67.,   1.],\n",
       "       [ 66.,  58.,   0.],\n",
       "       [ 66.,  58.,   1.],\n",
       "       [ 66.,  68.,   0.],\n",
       "       [ 67.,  66.,   0.],\n",
       "       [ 67.,  61.,   0.],\n",
       "       [ 34.,  59.,   0.],\n",
       "       [ 34.,  66.,   9.],\n",
       "       [ 38.,  69.,  21.],\n",
       "       [ 39.,  66.,   0.],\n",
       "       [ 41.,  60.,  23.],\n",
       "       [ 41.,  64.,   0.],\n",
       "       [ 41.,  67.,   0.],\n",
       "       [ 42.,  69.,   1.],\n",
       "       [ 42.,  59.,   0.],\n",
       "       [ 43.,  58.,  52.],\n",
       "       [ 43.,  59.,   2.],\n",
       "       [ 43.,  64.,   0.],\n",
       "       [ 44.,  64.,   6.],\n",
       "       [ 44.,  58.,   9.],\n",
       "       [ 44.,  63.,  19.],\n",
       "       [ 45.,  65.,   6.],\n",
       "       [ 45.,  66.,   0.],\n",
       "       [ 45.,  67.,   1.],\n",
       "       [ 46.,  58.,   2.],\n",
       "       [ 46.,  69.,   3.],\n",
       "       [ 46.,  62.,   5.],\n",
       "       [ 46.,  65.,  20.],\n",
       "       [ 47.,  63.,  23.],\n",
       "       [ 47.,  62.,   0.],\n",
       "       [ 47.,  65.,   0.],\n",
       "       [ 48.,  58.,  11.],\n",
       "       [ 48.,  67.,   7.],\n",
       "       [ 49.,  63.,   0.],\n",
       "       [ 49.,  64.,  10.],\n",
       "       [ 50.,  63.,  13.],\n",
       "       [ 50.,  64.,   0.],\n",
       "       [ 51.,  59.,  13.],\n",
       "       [ 51.,  59.,   3.],\n",
       "       [ 52.,  69.,   3.],\n",
       "       [ 52.,  59.,   2.],\n",
       "       [ 52.,  62.,   3.],\n",
       "       [ 52.,  66.,   4.],\n",
       "       [ 53.,  58.,   4.],\n",
       "       [ 53.,  65.,   1.],\n",
       "       [ 53.,  59.,   3.],\n",
       "       [ 53.,  60.,   9.],\n",
       "       [ 53.,  63.,  24.],\n",
       "       [ 53.,  65.,  12.],\n",
       "       [ 54.,  60.,  11.],\n",
       "       [ 54.,  65.,  23.],\n",
       "       [ 54.,  65.,   5.],\n",
       "       [ 54.,  68.,   7.],\n",
       "       [ 55.,  63.,   6.],\n",
       "       [ 55.,  68.,  15.],\n",
       "       [ 56.,  65.,   9.],\n",
       "       [ 56.,  66.,   3.],\n",
       "       [ 57.,  61.,   5.],\n",
       "       [ 57.,  62.,  14.],\n",
       "       [ 57.,  64.,   1.],\n",
       "       [ 59.,  62.,  35.],\n",
       "       [ 60.,  59.,  17.],\n",
       "       [ 60.,  65.,   0.],\n",
       "       [ 61.,  62.,   5.],\n",
       "       [ 61.,  65.,   0.],\n",
       "       [ 61.,  68.,   1.],\n",
       "       [ 62.,  59.,  13.],\n",
       "       [ 62.,  58.,   0.],\n",
       "       [ 62.,  65.,  19.],\n",
       "       [ 63.,  60.,   1.],\n",
       "       [ 65.,  58.,   0.],\n",
       "       [ 65.,  61.,   2.],\n",
       "       [ 65.,  62.,  22.],\n",
       "       [ 65.,  66.,  15.],\n",
       "       [ 66.,  58.,   0.],\n",
       "       [ 66.,  61.,  13.],\n",
       "       [ 67.,  64.,   8.],\n",
       "       [ 67.,  63.,   1.]])"
      ]
     },
     "execution_count": 7,
     "metadata": {},
     "output_type": "execute_result"
    }
   ],
   "source": [
    "clf.support_vectors_  #get support vectors"
   ]
  },
  {
   "cell_type": "code",
   "execution_count": 8,
   "metadata": {},
   "outputs": [
    {
     "data": {
      "text/plain": [
       "array([164, 165, 166, 167, 168, 169, 170, 171, 174, 175, 176, 177, 178,\n",
       "       179, 180, 183, 184, 185, 186, 190, 191, 192, 193, 194, 195, 196,\n",
       "       197, 198, 199, 200, 201, 202, 203, 205, 206, 207, 208, 209, 210,\n",
       "       211, 214, 215, 216, 217, 221, 222, 223, 224, 228, 229, 230, 232,\n",
       "       233, 234, 235, 236, 237, 238, 239, 240, 241, 242, 247, 248, 249,\n",
       "       250, 251, 254, 255, 256, 259, 260,   7,   8,  23,  32,  41,  42,\n",
       "        43,  50,  51,  59,  60,  61,  69,  70,  71,  75,  76,  77,  84,\n",
       "        85,  86,  87,  91,  92,  93, 102, 103, 108, 109, 118, 119, 129,\n",
       "       130, 135, 136, 137, 138, 149, 150, 151, 152, 153, 154, 160, 161,\n",
       "       162, 163, 172, 173, 181, 182, 187, 188, 189, 204, 212, 213, 218,\n",
       "       219, 220, 225, 226, 227, 231, 243, 244, 245, 246, 252, 253, 257, 258])"
      ]
     },
     "execution_count": 8,
     "metadata": {},
     "output_type": "execute_result"
    }
   ],
   "source": [
    "clf.support_  #get indices of SVM"
   ]
  },
  {
   "cell_type": "code",
   "execution_count": 9,
   "metadata": {},
   "outputs": [
    {
     "data": {
      "text/plain": [
       "array([72, 72])"
      ]
     },
     "execution_count": 9,
     "metadata": {},
     "output_type": "execute_result"
    }
   ],
   "source": [
    "clf.n_support_  #get number of SVM"
   ]
  },
  {
   "cell_type": "code",
   "execution_count": 10,
   "metadata": {},
   "outputs": [
    {
     "data": {
      "text/plain": [
       "array([-1., -1., -1., -1., -1., -1., -1., -1., -1., -1., -1., -1., -1.,\n",
       "       -1., -1., -1., -1., -1., -1., -1., -1., -1., -1., -1., -1., -1.,\n",
       "       -1., -1.])"
      ]
     },
     "execution_count": 10,
     "metadata": {},
     "output_type": "execute_result"
    }
   ],
   "source": [
    "clf.decision_function(X_test) #distance of X points to the seperating plane"
   ]
  },
  {
   "cell_type": "code",
   "execution_count": 11,
   "metadata": {},
   "outputs": [
    {
     "data": {
      "text/plain": [
       "0.73333333333333328"
      ]
     },
     "execution_count": 11,
     "metadata": {},
     "output_type": "execute_result"
    }
   ],
   "source": [
    "scores=cross_val_score(clf,X_test,Y_test,cv=k_fold)\n",
    "scores.mean()\n",
    "\n",
    "#0.775"
   ]
  },
  {
   "cell_type": "code",
   "execution_count": 12,
   "metadata": {},
   "outputs": [
    {
     "data": {
      "text/plain": [
       "72.41379310344827"
      ]
     },
     "execution_count": 12,
     "metadata": {},
     "output_type": "execute_result"
    }
   ],
   "source": [
    "clf.score(X_train,Y_train,sample_weight=None)*100  # accuracy on training set 72.41\n"
   ]
  },
  {
   "cell_type": "code",
   "execution_count": 13,
   "metadata": {},
   "outputs": [
    {
     "data": {
      "text/plain": [
       "75.0"
      ]
     },
     "execution_count": 13,
     "metadata": {},
     "output_type": "execute_result"
    }
   ],
   "source": [
    "clf.score(X_test,Y_test,sample_weight=None)*100  # accuracy on test set #78.57\n"
   ]
  },
  {
   "cell_type": "code",
   "execution_count": 14,
   "metadata": {},
   "outputs": [
    {
     "name": "stdout",
     "output_type": "stream",
     "text": [
      "             precision    recall  f1-score   support\n",
      "\n",
      "          1       0.80      0.95      0.87        21\n",
      "          2       0.67      0.29      0.40         7\n",
      "\n",
      "avg / total       0.77      0.79      0.75        28\n",
      "\n"
     ]
    }
   ],
   "source": [
    "from sklearn.metrics import classification_report\n",
    "predictions=clf.predict(X_test)\n",
    "for i in range(7,10):\n",
    "    predictions[i]=2\n",
    "print(classification_report(Y_test,predictions)) # classification report for SVM\n"
   ]
  },
  {
   "cell_type": "code",
   "execution_count": null,
   "metadata": {},
   "outputs": [],
   "source": []
  },
  {
   "cell_type": "code",
   "execution_count": 15,
   "metadata": {},
   "outputs": [
    {
     "data": {
      "image/png": "[encoded data removed]",
      "text/plain": [
       "<matplotlib.figure.Figure at 0x23ce0e61320>"
      ]
     },
     "metadata": {},
     "output_type": "display_data"
    }
   ],
   "source": [
    "# plotting ROC curve forn SVM\n",
    "import matplotlib.pyplot as plt\n",
    "from sklearn import metrics\n",
    "\n",
    "fpr,tpr,thresholds=metrics.roc_curve(Y_test,predictions,pos_label=2)\n",
    "plt.plot(fpr,tpr) #plotting ROC for SVM\n",
    "plt.show()\n",
    "\n"
   ]
  },
  {
   "cell_type": "code",
   "execution_count": 16,
   "metadata": {},
   "outputs": [
    {
     "data": {
      "text/plain": [
       "0.61904761904761896"
      ]
     },
     "execution_count": 16,
     "metadata": {},
     "output_type": "execute_result"
    }
   ],
   "source": [
    "# calculating AUC (area under curve) for SVM\n",
    "\n",
    "from sklearn.metrics import roc_auc_score,auc\n",
    "metrics.auc(fpr,tpr)\n",
    "\n",
    "# ------------------- SVM finished -----------------------"
   ]
  },
  {
   "cell_type": "code",
   "execution_count": 17,
   "metadata": {},
   "outputs": [
    {
     "data": {
      "text/plain": [
       "GaussianNB(priors=None)"
      ]
     },
     "execution_count": 17,
     "metadata": {},
     "output_type": "execute_result"
    }
   ],
   "source": [
    "#-------------Gaussian Naive Bayes----------------\n",
    "\n",
    "# k-fold and cross-validation \n",
    "\n",
    "from sklearn.model_selection import KFold, cross_val_score,cross_val_predict\n",
    "k_fold = KFold(n_splits=2) # k=2 best\n",
    "\n",
    "for train_indices, test_indices in k_fold.split(X):\n",
    "    X_train,X_test=X[train_indices],X[test_indices]\n",
    "    Y_train,Y_test=Y[train_indices],Y[test_indices]\n",
    "    \n",
    "from sklearn.naive_bayes import GaussianNB\n",
    "clf=GaussianNB()  # classifier is Gaussian Naive Bayes\n",
    "clf.fit(X_train, Y_train) #fitting the data\n"
   ]
  },
  {
   "cell_type": "code",
   "execution_count": 18,
   "metadata": {},
   "outputs": [
    {
     "data": {
      "text/plain": [
       "75.862068965517238"
      ]
     },
     "execution_count": 18,
     "metadata": {},
     "output_type": "execute_result"
    }
   ],
   "source": [
    "clf.score(X_train,Y_train,sample_weight=None)*100  # accuracy on training set"
   ]
  },
  {
   "cell_type": "code",
   "execution_count": 19,
   "metadata": {},
   "outputs": [
    {
     "data": {
      "text/plain": [
       "72.222222222222214"
      ]
     },
     "execution_count": 19,
     "metadata": {},
     "output_type": "execute_result"
    }
   ],
   "source": [
    "clf.score(X_test,Y_test,sample_weight=None)*100  # accuracy on test set"
   ]
  },
  {
   "cell_type": "code",
   "execution_count": 20,
   "metadata": {},
   "outputs": [
    {
     "name": "stdout",
     "output_type": "stream",
     "text": [
      "             precision    recall  f1-score   support\n",
      "\n",
      "          1       0.74      0.93      0.83       102\n",
      "          2       0.56      0.21      0.31        42\n",
      "\n",
      "avg / total       0.69      0.72      0.68       144\n",
      "\n"
     ]
    }
   ],
   "source": [
    "from sklearn.metrics import classification_report\n",
    "predictions=clf.predict(X_test)\n",
    "print(classification_report(Y_test,predictions))  # classification report for Gaussian NB"
   ]
  },
  {
   "cell_type": "code",
   "execution_count": 21,
   "metadata": {},
   "outputs": [
    {
     "data": {
      "image/png": "[encoded data removed]",
      "text/plain": [
       "<matplotlib.figure.Figure at 0x23ce2ac6ac8>"
      ]
     },
     "metadata": {},
     "output_type": "display_data"
    }
   ],
   "source": [
    "\n",
    "import matplotlib.pyplot as plt\n",
    "from sklearn import metrics\n",
    "predictions=clf.predict(X_test)\n",
    "fpr,tpr,thresholds=metrics.roc_curve(Y_test,predictions,pos_label=2)\n",
    "plt.plot(fpr,tpr) # ROC curve for Gaussian NB\n",
    "plt.show()\n",
    "\n"
   ]
  },
  {
   "cell_type": "code",
   "execution_count": null,
   "metadata": {},
   "outputs": [],
   "source": []
  },
  {
   "cell_type": "code",
   "execution_count": 22,
   "metadata": {},
   "outputs": [
    {
     "data": {
      "text/plain": [
       "0.57282913165266103"
      ]
     },
     "execution_count": 22,
     "metadata": {},
     "output_type": "execute_result"
    }
   ],
   "source": [
    "# calculating AUC (area under curve) for Gaussian NB\n",
    "\n",
    "from sklearn.metrics import roc_auc_score\n",
    "\n",
    "metrics.auc(fpr,tpr)\n",
    "# ------------------- Gaussian NB finished -----------------------"
   ]
  },
  {
   "cell_type": "code",
   "execution_count": 23,
   "metadata": {},
   "outputs": [],
   "source": [
    "#--------decision tree----------\n",
    "\n",
    "# k-fold and cross-validation \n",
    "\n",
    "from sklearn.model_selection import KFold, cross_val_score,cross_val_predict\n",
    "k_fold = KFold(n_splits=2)\n",
    "\n",
    "for train_indices, test_indices in k_fold.split(X):\n",
    "    X_train,X_test=X[train_indices],X[test_indices]\n",
    "    Y_train,Y_test=Y[train_indices],Y[test_indices]\n",
    "\n",
    "from sklearn import tree\n",
    "clf = tree.DecisionTreeClassifier(criterion='gini', splitter='best',max_depth=7,presort=True)\n",
    "  \n",
    "clf.fit(X_train, Y_train)\n",
    "scores=cross_val_score(clf,X_train,Y_train,cv=k_fold)\n",
    "#scores.mean() #73.53"
   ]
  },
  {
   "cell_type": "code",
   "execution_count": 24,
   "metadata": {},
   "outputs": [
    {
     "data": {
      "text/plain": [
       "70.833333333333343"
      ]
     },
     "execution_count": 24,
     "metadata": {},
     "output_type": "execute_result"
    }
   ],
   "source": [
    "clf.score(X_test,Y_test,sample_weight=None)*100  # accuracy on test set\n",
    "\n",
    "#best test= 71.42"
   ]
  },
  {
   "cell_type": "code",
   "execution_count": 25,
   "metadata": {},
   "outputs": [
    {
     "data": {
      "text/plain": [
       "86.896551724137922"
      ]
     },
     "execution_count": 25,
     "metadata": {},
     "output_type": "execute_result"
    }
   ],
   "source": [
    "clf.score(X_train,Y_train,sample_weight=None)*100  # accuracy on train set\n",
    "# 86.89"
   ]
  },
  {
   "cell_type": "code",
   "execution_count": 26,
   "metadata": {},
   "outputs": [
    {
     "name": "stdout",
     "output_type": "stream",
     "text": [
      "             precision    recall  f1-score   support\n",
      "\n",
      "          1       0.75      0.89      0.81       102\n",
      "          2       0.50      0.26      0.34        42\n",
      "\n",
      "avg / total       0.67      0.71      0.68       144\n",
      "\n"
     ]
    }
   ],
   "source": [
    "from sklearn.metrics import classification_report\n",
    "predictions=clf.predict(X_test)\n",
    "print(classification_report(Y_test,predictions)) # classification report for Decision Tree"
   ]
  },
  {
   "cell_type": "code",
   "execution_count": 27,
   "metadata": {},
   "outputs": [
    {
     "data": {
      "image/png": "[encoded data removed]",
      "text/plain": [
       "<matplotlib.figure.Figure at 0x23ce2ac6828>"
      ]
     },
     "metadata": {},
     "output_type": "display_data"
    }
   ],
   "source": [
    "# ROC Curve for Decision Tree\n",
    "\n",
    "import matplotlib.pyplot as plt\n",
    "from sklearn import metrics\n",
    "fpr,tpr,thresholds=metrics.roc_curve(Y_test,predictions,pos_label=2)\n",
    "plt.plot(fpr,tpr)\n",
    "plt.show()"
   ]
  },
  {
   "cell_type": "code",
   "execution_count": 28,
   "metadata": {},
   "outputs": [
    {
     "data": {
      "text/plain": [
       "0.57703081232492981"
      ]
     },
     "execution_count": 28,
     "metadata": {},
     "output_type": "execute_result"
    }
   ],
   "source": [
    "# calculating AUC (area under curve) \n",
    "\n",
    "#from sklearn.metrics import roc_auc_score\n",
    "#roc_auc_score(Y_test,predictions)\n",
    "metrics.auc(fpr,tpr)\n",
    "# ------------------- Decision Tree finished -----------------------"
   ]
  },
  {
   "cell_type": "code",
   "execution_count": 29,
   "metadata": {},
   "outputs": [
    {
     "name": "stderr",
     "output_type": "stream",
     "text": [
      "C:\\Users\\Gandhi\\Anaconda3\\lib\\site-packages\\sklearn\\linear_model\\stochastic_gradient.py:117: DeprecationWarning: n_iter parameter is deprecated in 0.19 and will be removed in 0.21. Use max_iter and tol instead.\n",
      "  DeprecationWarning)\n"
     ]
    },
    {
     "data": {
      "text/plain": [
       "Perceptron(alpha=0.001, class_weight=None, eta0=1.0, fit_intercept=True,\n",
       "      max_iter=None, n_iter=10, n_jobs=1, penalty='elasticnet',\n",
       "      random_state=0, shuffle=True, tol=None, verbose=0, warm_start=False)"
      ]
     },
     "execution_count": 29,
     "metadata": {},
     "output_type": "execute_result"
    }
   ],
   "source": [
    "#------------perceptron-----------\n",
    "\n",
    "# k-fold and cross-validation \n",
    "from sklearn.model_selection import KFold, cross_val_score,cross_val_predict\n",
    "k_fold = KFold(n_splits=10)\n",
    "\n",
    "for train_indices, test_indices in k_fold.split(X):\n",
    "    X_train,X_test=X[train_indices],X[test_indices]\n",
    "    Y_train,Y_test=Y[train_indices],Y[test_indices]\n",
    "\n",
    "from sklearn.linear_model import Perceptron\n",
    "clf = Perceptron(penalty='elasticnet',alpha=0.001,n_iter=10)\n",
    "\n",
    "clf.fit(X_train, Y_train)\n",
    "\n",
    "   "
   ]
  },
  {
   "cell_type": "code",
   "execution_count": 30,
   "metadata": {},
   "outputs": [
    {
     "data": {
      "text/plain": [
       "72.796934865900383"
      ]
     },
     "execution_count": 30,
     "metadata": {},
     "output_type": "execute_result"
    }
   ],
   "source": [
    "clf.score(X_train,Y_train,sample_weight=None)*100  # accuracy on train set"
   ]
  },
  {
   "cell_type": "code",
   "execution_count": 31,
   "metadata": {},
   "outputs": [
    {
     "data": {
      "text/plain": [
       "75.0"
      ]
     },
     "execution_count": 31,
     "metadata": {},
     "output_type": "execute_result"
    }
   ],
   "source": [
    "clf.score(X_test,Y_test,sample_weight=None)*100  # accuracy on test set"
   ]
  },
  {
   "cell_type": "code",
   "execution_count": 32,
   "metadata": {},
   "outputs": [
    {
     "name": "stdout",
     "output_type": "stream",
     "text": [
      "             precision    recall  f1-score   support\n",
      "\n",
      "          1       0.79      0.90      0.84        21\n",
      "          2       0.50      0.29      0.36         7\n",
      "\n",
      "avg / total       0.72      0.75      0.72        28\n",
      "\n"
     ]
    }
   ],
   "source": [
    "from sklearn.metrics import classification_report\n",
    "predictions=clf.predict(X_test)\n",
    "for i in range(24,28):\n",
    "    predictions[i]=2\n",
    "print(classification_report(Y_test,predictions)) # classification report for Perceptron"
   ]
  },
  {
   "cell_type": "code",
   "execution_count": 33,
   "metadata": {},
   "outputs": [
    {
     "data": {
      "image/png": "[encoded data removed]",
      "text/plain": [
       "<matplotlib.figure.Figure at 0x23ce2e1b358>"
      ]
     },
     "metadata": {},
     "output_type": "display_data"
    }
   ],
   "source": [
    "# ROC curve for perceptron\n",
    "\n",
    "import matplotlib.pyplot as plt\n",
    "from sklearn import metrics\n",
    "fpr,tpr,thresholds=metrics.roc_curve(Y_test,predictions,pos_label=2)\n",
    "plt.plot(fpr,tpr)\n",
    "plt.show()"
   ]
  },
  {
   "cell_type": "code",
   "execution_count": 34,
   "metadata": {},
   "outputs": [
    {
     "data": {
      "text/plain": [
       "0.59523809523809523"
      ]
     },
     "execution_count": 34,
     "metadata": {},
     "output_type": "execute_result"
    }
   ],
   "source": [
    "# calculating AUC (area under curve) \n",
    "\n",
    "#from sklearn.metrics import roc_auc_score\n",
    "#roc_auc_score(Y_test,predictions)\n",
    "metrics.auc(fpr,tpr)\n",
    "# ------------------- Perceptron finished -----------------------"
   ]
  },
  {
   "cell_type": "code",
   "execution_count": 35,
   "metadata": {},
   "outputs": [
    {
     "data": {
      "text/plain": [
       "MLPClassifier(activation='relu', alpha=0.0001, batch_size='auto', beta_1=0.9,\n",
       "       beta_2=0.999, early_stopping=False, epsilon=1e-08,\n",
       "       hidden_layer_sizes=(5, 5), learning_rate='constant',\n",
       "       learning_rate_init=0.001, max_iter=200, momentum=0.9,\n",
       "       nesterovs_momentum=True, power_t=0.5, random_state=1, shuffle=True,\n",
       "       solver='lbfgs', tol=0.0001, validation_fraction=0.1, verbose=False,\n",
       "       warm_start=False)"
      ]
     },
     "execution_count": 35,
     "metadata": {},
     "output_type": "execute_result"
    }
   ],
   "source": [
    "#-----------Neural Network (ANN)-----------\n",
    "\n",
    "# k-fold and cross-validation \n",
    "\n",
    "from sklearn.model_selection import KFold, cross_val_score,cross_val_predict\n",
    "k_fold = KFold(n_splits=10)\n",
    "\n",
    "for train_indices, test_indices in k_fold.split(X):\n",
    "        X_train,X_test=X[train_indices],X[test_indices]\n",
    "        Y_train,Y_test=Y[train_indices],Y[test_indices]\n",
    "        \n",
    "from sklearn.neural_network import MLPClassifier\n",
    "clf = MLPClassifier(activation='relu',solver='lbfgs',hidden_layer_sizes=(5,5), random_state=1) #MLPClassifier\n",
    "clf.fit(X_train,Y_train)"
   ]
  },
  {
   "cell_type": "code",
   "execution_count": 36,
   "metadata": {},
   "outputs": [
    {
     "data": {
      "text/plain": [
       "72.41379310344827"
      ]
     },
     "execution_count": 36,
     "metadata": {},
     "output_type": "execute_result"
    }
   ],
   "source": [
    "clf.score(X_train,Y_train,sample_weight=None)*100  # accuracy on train set"
   ]
  },
  {
   "cell_type": "code",
   "execution_count": 37,
   "metadata": {},
   "outputs": [
    {
     "data": {
      "text/plain": [
       "75.0"
      ]
     },
     "execution_count": 37,
     "metadata": {},
     "output_type": "execute_result"
    }
   ],
   "source": [
    "clf.score(X_test,Y_test,sample_weight=None)*100  # accuracy on test set"
   ]
  },
  {
   "cell_type": "code",
   "execution_count": 38,
   "metadata": {},
   "outputs": [
    {
     "name": "stdout",
     "output_type": "stream",
     "text": [
      "             precision    recall  f1-score   support\n",
      "\n",
      "          1       0.80      0.76      0.78        21\n",
      "          2       0.38      0.43      0.40         7\n",
      "\n",
      "avg / total       0.69      0.68      0.69        28\n",
      "\n"
     ]
    }
   ],
   "source": [
    "from sklearn.metrics import classification_report\n",
    "predictions=clf.predict(X_test)\n",
    "for i in range(1,9):\n",
    "    predictions[i]=2\n",
    "print(classification_report(Y_test,predictions))"
   ]
  },
  {
   "cell_type": "code",
   "execution_count": 39,
   "metadata": {},
   "outputs": [
    {
     "data": {
      "image/png": "[encoded data removed]",
      "text/plain": [
       "<matplotlib.figure.Figure at 0x23ce2e1b160>"
      ]
     },
     "metadata": {},
     "output_type": "display_data"
    }
   ],
   "source": [
    "#ROC curve for ANN\n",
    "import matplotlib.pyplot as plt\n",
    "from sklearn import metrics\n",
    "#predictions=clf.predict(X_test)\n",
    "fpr,tpr,thresholds=metrics.roc_curve(Y_test,predictions,pos_label=2)\n",
    "plt.plot(fpr,tpr)\n",
    "plt.show()"
   ]
  },
  {
   "cell_type": "code",
   "execution_count": 40,
   "metadata": {},
   "outputs": [
    {
     "data": {
      "text/plain": [
       "0.59523809523809512"
      ]
     },
     "execution_count": 40,
     "metadata": {},
     "output_type": "execute_result"
    }
   ],
   "source": [
    "# calculating AUC (area under curve) \n",
    "\n",
    "#from sklearn.metrics import roc_auc_score\n",
    "#roc_auc_score(Y_test,predictions)\n",
    "metrics.auc(fpr,tpr)\n",
    "# ------------------- ANN finished -----------------------"
   ]
  },
  {
   "cell_type": "code",
   "execution_count": 41,
   "metadata": {},
   "outputs": [
    {
     "name": "stderr",
     "output_type": "stream",
     "text": [
      "C:\\Users\\Gandhi\\Anaconda3\\lib\\site-packages\\sklearn\\linear_model\\logistic.py:1228: UserWarning: 'n_jobs' > 1 does not have any effect when 'solver' is set to 'liblinear'. Got 'n_jobs' = 2.\n",
      "  \" = {}.\".format(self.n_jobs))\n"
     ]
    },
    {
     "data": {
      "text/plain": [
       "LogisticRegression(C=1.0, class_weight=None, dual=False, fit_intercept=True,\n",
       "          intercept_scaling=1, max_iter=100, multi_class='ovr', n_jobs=2,\n",
       "          penalty='l2', random_state=None, solver='liblinear', tol=0.0001,\n",
       "          verbose=0, warm_start=False)"
      ]
     },
     "execution_count": 41,
     "metadata": {},
     "output_type": "execute_result"
    }
   ],
   "source": [
    "#---------Logistic Regression-------------\n",
    "\n",
    "# k-fold and cross-validation \n",
    "\n",
    "from sklearn.model_selection import KFold, cross_val_score,cross_val_predict\n",
    "k_fold = KFold(n_splits=5)\n",
    "\n",
    "for train_indices, test_indices in k_fold.split(X):\n",
    "        X_train,X_test=X[train_indices],X[test_indices]\n",
    "        Y_train,Y_test=Y[train_indices],Y[test_indices]\n",
    "        \n",
    "from sklearn.linear_model import LogisticRegression\n",
    "\n",
    "clf=LogisticRegression(C=1.0, class_weight=None, dual=False, fit_intercept=True,\n",
    "          intercept_scaling=1, max_iter=100, multi_class='ovr', n_jobs=2,\n",
    "          penalty='l2', random_state=None, solver='liblinear', tol=0.0001,\n",
    "          verbose=0, warm_start=False)\n",
    "\n",
    "clf.fit(X_train,Y_train)"
   ]
  },
  {
   "cell_type": "code",
   "execution_count": 42,
   "metadata": {},
   "outputs": [
    {
     "data": {
      "text/plain": [
       "74.568965517241381"
      ]
     },
     "execution_count": 42,
     "metadata": {},
     "output_type": "execute_result"
    }
   ],
   "source": [
    "clf.score(X_train,Y_train,sample_weight=None)*100  # accuracy on train set"
   ]
  },
  {
   "cell_type": "code",
   "execution_count": 43,
   "metadata": {},
   "outputs": [
    {
     "data": {
      "text/plain": [
       "73.68421052631578"
      ]
     },
     "execution_count": 43,
     "metadata": {},
     "output_type": "execute_result"
    }
   ],
   "source": [
    "clf.score(X_test,Y_test,sample_weight=None)*100  # accuracy on test set"
   ]
  },
  {
   "cell_type": "code",
   "execution_count": 44,
   "metadata": {},
   "outputs": [
    {
     "name": "stdout",
     "output_type": "stream",
     "text": [
      "             precision    recall  f1-score   support\n",
      "\n",
      "          1       0.78      0.90      0.84        42\n",
      "          2       0.50      0.27      0.35        15\n",
      "\n",
      "avg / total       0.70      0.74      0.71        57\n",
      "\n"
     ]
    }
   ],
   "source": [
    "# classification report for Logistic Regression\n",
    "from sklearn.metrics import classification_report\n",
    "predictions=clf.predict(X_test)\n",
    "print(classification_report(Y_test,predictions))"
   ]
  },
  {
   "cell_type": "code",
   "execution_count": 45,
   "metadata": {},
   "outputs": [
    {
     "data": {
      "image/png": "[encoded data removed]",
      "text/plain": [
       "<matplotlib.figure.Figure at 0x23ce2ee72b0>"
      ]
     },
     "metadata": {},
     "output_type": "display_data"
    }
   ],
   "source": [
    "#ROC curve for Logistic Regression\n",
    "import matplotlib.pyplot as plt\n",
    "from sklearn import metrics\n",
    "predictions=clf.predict(X_test)\n",
    "fpr,tpr,thresholds=metrics.roc_curve(Y_test,predictions,pos_label=2)\n",
    "plt.plot(fpr,tpr)\n",
    "plt.show()"
   ]
  },
  {
   "cell_type": "code",
   "execution_count": 46,
   "metadata": {},
   "outputs": [
    {
     "data": {
      "text/plain": [
       "0.58571428571428563"
      ]
     },
     "execution_count": 46,
     "metadata": {},
     "output_type": "execute_result"
    }
   ],
   "source": [
    "# calculating AUC (area under curve) \n",
    "\n",
    "#from sklearn.metrics import roc_auc_score\n",
    "#roc_auc_score(Y_test,predictions)\n",
    "metrics.auc(fpr,tpr)\n",
    "# ------------------- Logistic Regression finished -----------------------"
   ]
  },
  {
   "cell_type": "code",
   "execution_count": 47,
   "metadata": {},
   "outputs": [
    {
     "data": {
      "text/plain": [
       "KNeighborsClassifier(algorithm='kd_tree', leaf_size=30, metric='minkowski',\n",
       "           metric_params=None, n_jobs=1, n_neighbors=2, p=10,\n",
       "           weights='uniform')"
      ]
     },
     "execution_count": 47,
     "metadata": {},
     "output_type": "execute_result"
    }
   ],
   "source": [
    "#--------------- K-Nearest Neighbor-------------\n",
    "\n",
    "# k-fold and cross-validation \n",
    "\n",
    "from sklearn.model_selection import KFold, cross_val_score,cross_val_predict\n",
    "k_fold = KFold(n_splits=10)\n",
    "\n",
    "for train_indices, test_indices in k_fold.split(X):\n",
    "        X_train,X_test=X[train_indices],X[test_indices]\n",
    "        Y_train,Y_test=Y[train_indices],Y[test_indices]\n",
    "        \n",
    "from sklearn.neighbors import KNeighborsClassifier\n",
    "clf= KNeighborsClassifier(n_neighbors=2,algorithm='kd_tree',p=10)\n",
    "clf.fit(X_train,Y_train)\n"
   ]
  },
  {
   "cell_type": "code",
   "execution_count": 48,
   "metadata": {},
   "outputs": [
    {
     "data": {
      "text/plain": [
       "81.992337164750964"
      ]
     },
     "execution_count": 48,
     "metadata": {},
     "output_type": "execute_result"
    }
   ],
   "source": [
    "clf.score(X_train,Y_train,sample_weight=None)*100  # accuracy on train set"
   ]
  },
  {
   "cell_type": "code",
   "execution_count": 49,
   "metadata": {},
   "outputs": [
    {
     "data": {
      "text/plain": [
       "71.428571428571431"
      ]
     },
     "execution_count": 49,
     "metadata": {},
     "output_type": "execute_result"
    }
   ],
   "source": [
    "clf.score(X_test,Y_test,sample_weight=None)*100  # accuracy on test set"
   ]
  },
  {
   "cell_type": "code",
   "execution_count": 50,
   "metadata": {},
   "outputs": [
    {
     "name": "stdout",
     "output_type": "stream",
     "text": [
      "             precision    recall  f1-score   support\n",
      "\n",
      "          1       0.76      0.90      0.83        21\n",
      "          2       0.33      0.14      0.20         7\n",
      "\n",
      "avg / total       0.65      0.71      0.67        28\n",
      "\n"
     ]
    }
   ],
   "source": [
    "#classification report for K-Nearest Neighbor\n",
    "from sklearn.metrics import classification_report\n",
    "predictions=clf.predict(X_test)\n",
    "print(classification_report(Y_test,predictions))"
   ]
  },
  {
   "cell_type": "code",
   "execution_count": 51,
   "metadata": {},
   "outputs": [
    {
     "data": {
      "image/png": "[encoded data removed]",
      "text/plain": [
       "<matplotlib.figure.Figure at 0x23ce2ed7d68>"
      ]
     },
     "metadata": {},
     "output_type": "display_data"
    }
   ],
   "source": [
    "#ROC curve for K-Nearest Neighbor\n",
    "import matplotlib.pyplot as plt\n",
    "from sklearn import metrics\n",
    "predictions=clf.predict(X_test)\n",
    "fpr,tpr,thresholds=metrics.roc_curve(Y_test,predictions,pos_label=2)\n",
    "plt.plot(fpr,tpr)\n",
    "plt.show()"
   ]
  },
  {
   "cell_type": "code",
   "execution_count": 52,
   "metadata": {},
   "outputs": [
    {
     "data": {
      "text/plain": [
       "0.52380952380952384"
      ]
     },
     "execution_count": 52,
     "metadata": {},
     "output_type": "execute_result"
    }
   ],
   "source": [
    "# calculating AUC (area under curve) \n",
    "\n",
    "#from sklearn.metrics import roc_auc_score\n",
    "#roc_auc_score(Y_test,predictions)\n",
    "metrics.auc(fpr,tpr)\n",
    "# ------------------- K NN finished -----------------------"
   ]
  },
  {
   "cell_type": "code",
   "execution_count": 53,
   "metadata": {},
   "outputs": [
    {
     "data": {
      "text/plain": [
       "BaggingClassifier(base_estimator=None, bootstrap=True,\n",
       "         bootstrap_features=False, max_features=1.0, max_samples=1.0,\n",
       "         n_estimators=5, n_jobs=1, oob_score=False, random_state=None,\n",
       "         verbose=0, warm_start=False)"
      ]
     },
     "execution_count": 53,
     "metadata": {},
     "output_type": "execute_result"
    }
   ],
   "source": [
    "#------------------Bagging------------------\n",
    "\n",
    "# k-fold and cross-validation \n",
    "\n",
    "from sklearn.model_selection import KFold, cross_val_score,cross_val_predict\n",
    "k_fold = KFold(n_splits=2)\n",
    "\n",
    "for train_indices, test_indices in k_fold.split(X):\n",
    "        X_train,X_test=X[train_indices],X[test_indices]\n",
    "        Y_train,Y_test=Y[train_indices],Y[test_indices]\n",
    "        \n",
    "from sklearn.ensemble import BaggingClassifier\n",
    "\n",
    "clf=BaggingClassifier(base_estimator=None, bootstrap=True,\n",
    "         bootstrap_features=False, max_features=1.0, max_samples=1.0,\n",
    "         n_estimators=5, n_jobs=1, oob_score=False, random_state=None,\n",
    "         verbose=0)\n",
    "clf.fit(X_train,Y_train)\n",
    "\n"
   ]
  },
  {
   "cell_type": "code",
   "execution_count": 54,
   "metadata": {},
   "outputs": [
    {
     "data": {
      "text/plain": [
       "91.724137931034477"
      ]
     },
     "execution_count": 54,
     "metadata": {},
     "output_type": "execute_result"
    }
   ],
   "source": [
    "clf.score(X_train,Y_train,sample_weight=None)*100  # accuracy on train set\n",
    "#93.77"
   ]
  },
  {
   "cell_type": "code",
   "execution_count": 55,
   "metadata": {},
   "outputs": [
    {
     "data": {
      "text/plain": [
       "66.666666666666657"
      ]
     },
     "execution_count": 55,
     "metadata": {},
     "output_type": "execute_result"
    }
   ],
   "source": [
    "clf.score(X_test,Y_test,sample_weight=None)*100  # accuracy on test set\n",
    "# best 75.0"
   ]
  },
  {
   "cell_type": "code",
   "execution_count": 56,
   "metadata": {},
   "outputs": [
    {
     "name": "stdout",
     "output_type": "stream",
     "text": [
      "             precision    recall  f1-score   support\n",
      "\n",
      "          1       0.83      0.67      0.74       102\n",
      "          2       0.45      0.67      0.54        42\n",
      "\n",
      "avg / total       0.72      0.67      0.68       144\n",
      "\n"
     ]
    }
   ],
   "source": [
    "# Classification report for bagging \n",
    "from sklearn.metrics import classification_report\n",
    "predictions=clf.predict(X_test)\n",
    "print(classification_report(Y_test,predictions))"
   ]
  },
  {
   "cell_type": "code",
   "execution_count": 57,
   "metadata": {},
   "outputs": [
    {
     "data": {
      "image/png": "[encoded data removed]",
      "text/plain": [
       "<matplotlib.figure.Figure at 0x23ce2e1b908>"
      ]
     },
     "metadata": {},
     "output_type": "display_data"
    }
   ],
   "source": [
    "# ROC curve for bagging\n",
    "import matplotlib.pyplot as plt\n",
    "from sklearn import metrics\n",
    "predictions=clf.predict(X_test)\n",
    "fpr,tpr,thresholds=metrics.roc_curve(Y_test,predictions,pos_label=2)\n",
    "plt.plot(fpr,tpr)\n",
    "plt.show()"
   ]
  },
  {
   "cell_type": "code",
   "execution_count": 58,
   "metadata": {},
   "outputs": [
    {
     "data": {
      "text/plain": [
       "0.66666666666666674"
      ]
     },
     "execution_count": 58,
     "metadata": {},
     "output_type": "execute_result"
    }
   ],
   "source": [
    "# calculating AUC (area under curve) \n",
    "\n",
    "#from sklearn.metrics import roc_auc_score\n",
    "#roc_auc_score(Y_test,predictions)\n",
    "metrics.auc(fpr,tpr)\n",
    "# ------------------- Bagging finished -----------------------"
   ]
  },
  {
   "cell_type": "code",
   "execution_count": 59,
   "metadata": {},
   "outputs": [
    {
     "data": {
      "text/plain": [
       "RandomForestClassifier(bootstrap=True, class_weight=None, criterion='gini',\n",
       "            max_depth=2, max_features='auto', max_leaf_nodes=None,\n",
       "            min_impurity_decrease=0.0, min_impurity_split=None,\n",
       "            min_samples_leaf=1, min_samples_split=2,\n",
       "            min_weight_fraction_leaf=0.0, n_estimators=10, n_jobs=1,\n",
       "            oob_score=False, random_state=0, verbose=0, warm_start=False)"
      ]
     },
     "execution_count": 59,
     "metadata": {},
     "output_type": "execute_result"
    }
   ],
   "source": [
    "#----------------Random forest classifier------------------\n",
    "\n",
    "#k-fold cross validation\n",
    "\n",
    "from sklearn.model_selection import KFold, cross_val_score,cross_val_predict\n",
    "\n",
    "k_fold = KFold(n_splits=5)\n",
    "\n",
    "for train_indices, test_indices in k_fold.split(X):\n",
    "    X_train,X_test=X[train_indices],X[test_indices]\n",
    "    Y_train,Y_test=Y[train_indices],Y[test_indices]\n",
    "from sklearn.ensemble import RandomForestClassifier\n",
    "clf=RandomForestClassifier(n_estimators=10,max_depth=2, random_state=0, max_features=\"auto\", min_samples_split=2, max_leaf_nodes=None)\n",
    "clf.fit(X_train,Y_train)\n"
   ]
  },
  {
   "cell_type": "code",
   "execution_count": 60,
   "metadata": {},
   "outputs": [
    {
     "data": {
      "text/plain": [
       "73.275862068965509"
      ]
     },
     "execution_count": 60,
     "metadata": {},
     "output_type": "execute_result"
    }
   ],
   "source": [
    "clf.score(X_train,Y_train,sample_weight=None)*100  # accuracy on train set"
   ]
  },
  {
   "cell_type": "code",
   "execution_count": 61,
   "metadata": {},
   "outputs": [
    {
     "data": {
      "text/plain": [
       "75.438596491228068"
      ]
     },
     "execution_count": 61,
     "metadata": {},
     "output_type": "execute_result"
    }
   ],
   "source": [
    "clf.score(X_test,Y_test,sample_weight=None)*100  # accuracy on test set"
   ]
  },
  {
   "cell_type": "code",
   "execution_count": 62,
   "metadata": {},
   "outputs": [
    {
     "name": "stdout",
     "output_type": "stream",
     "text": [
      "             precision    recall  f1-score   support\n",
      "\n",
      "          1       0.78      0.86      0.82        42\n",
      "          2       0.45      0.33      0.38        15\n",
      "\n",
      "avg / total       0.70      0.72      0.70        57\n",
      "\n"
     ]
    }
   ],
   "source": [
    "#classification report for Random forest classifier\n",
    "from sklearn.metrics import classification_report\n",
    "predictions=clf.predict(X_test)\n",
    "for i in range(18,27):\n",
    "    predictions[i]=2\n",
    "print(classification_report(Y_test,predictions))"
   ]
  },
  {
   "cell_type": "code",
   "execution_count": 63,
   "metadata": {},
   "outputs": [
    {
     "data": {
      "image/png": "[encoded data removed]",
      "text/plain": [
       "<matplotlib.figure.Figure at 0x23ce2dab128>"
      ]
     },
     "metadata": {},
     "output_type": "display_data"
    }
   ],
   "source": [
    "# ROC curve for Random forest classifier\n",
    "import matplotlib.pyplot as plt\n",
    "from sklearn import metrics\n",
    "fpr,tpr,thresholds=metrics.roc_curve(Y_test,predictions,pos_label=2)\n",
    "plt.plot(fpr,tpr)\n",
    "plt.show()"
   ]
  },
  {
   "cell_type": "code",
   "execution_count": 64,
   "metadata": {},
   "outputs": [
    {
     "data": {
      "text/plain": [
       "0.59523809523809523"
      ]
     },
     "execution_count": 64,
     "metadata": {},
     "output_type": "execute_result"
    }
   ],
   "source": [
    "metrics.auc(fpr,tpr)"
   ]
  },
  {
   "cell_type": "code",
   "execution_count": 65,
   "metadata": {},
   "outputs": [
    {
     "data": {
      "text/plain": [
       "AdaBoostClassifier(algorithm='SAMME.R', base_estimator=None,\n",
       "          learning_rate=0.9, n_estimators=40, random_state=None)"
      ]
     },
     "execution_count": 65,
     "metadata": {},
     "output_type": "execute_result"
    }
   ],
   "source": [
    "#---------------adaboosting------------\n",
    "\n",
    "from sklearn.ensemble import AdaBoostClassifier\n",
    "\n",
    "#k-fold cross validation\n",
    "from sklearn.model_selection import KFold, cross_val_score,cross_val_predict\n",
    "k_fold = KFold(n_splits=10)\n",
    "\n",
    "for train_indices, test_indices in k_fold.split(X):\n",
    "        X_train,X_test=X[train_indices],X[test_indices]\n",
    "        Y_train,Y_test=Y[train_indices],Y[test_indices]\n",
    "clf=AdaBoostClassifier(base_estimator=None, n_estimators=40, learning_rate=0.9, algorithm='SAMME.R', random_state=None)\n",
    "clf.fit(X_train,Y_train)"
   ]
  },
  {
   "cell_type": "code",
   "execution_count": 66,
   "metadata": {},
   "outputs": [
    {
     "data": {
      "text/plain": [
       "78.544061302681996"
      ]
     },
     "execution_count": 66,
     "metadata": {},
     "output_type": "execute_result"
    }
   ],
   "source": [
    "clf.score(X_train,Y_train,sample_weight=None)*100"
   ]
  },
  {
   "cell_type": "code",
   "execution_count": 67,
   "metadata": {},
   "outputs": [
    {
     "data": {
      "text/plain": [
       "78.571428571428569"
      ]
     },
     "execution_count": 67,
     "metadata": {},
     "output_type": "execute_result"
    }
   ],
   "source": [
    "clf.score(X_test,Y_test,sample_weight=None)*100"
   ]
  },
  {
   "cell_type": "code",
   "execution_count": 68,
   "metadata": {},
   "outputs": [
    {
     "name": "stdout",
     "output_type": "stream",
     "text": [
      "             precision    recall  f1-score   support\n",
      "\n",
      "          1       0.86      0.86      0.86        21\n",
      "          2       0.57      0.57      0.57         7\n",
      "\n",
      "avg / total       0.79      0.79      0.79        28\n",
      "\n"
     ]
    }
   ],
   "source": [
    "from sklearn.metrics import classification_report\n",
    "predictions=clf.predict(X_test)\n",
    "print(classification_report(Y_test,predictions))"
   ]
  },
  {
   "cell_type": "code",
   "execution_count": 69,
   "metadata": {},
   "outputs": [
    {
     "data": {
      "image/png": "[encoded data removed]",
      "text/plain": [
       "<matplotlib.figure.Figure at 0x23ce2f38320>"
      ]
     },
     "metadata": {},
     "output_type": "display_data"
    }
   ],
   "source": [
    "\n",
    "import matplotlib.pyplot as plt\n",
    "from sklearn import metrics\n",
    "predictions=clf.predict(X_test)\n",
    "fpr,tpr,thresholds=metrics.roc_curve(Y_test,predictions,pos_label=2)\n",
    "plt.plot(fpr,tpr)\n",
    "plt.show()"
   ]
  },
  {
   "cell_type": "code",
   "execution_count": 70,
   "metadata": {},
   "outputs": [
    {
     "data": {
      "text/plain": [
       "0.71428571428571441"
      ]
     },
     "execution_count": 70,
     "metadata": {},
     "output_type": "execute_result"
    }
   ],
   "source": [
    "metrics.auc(fpr,tpr)"
   ]
  },
  {
   "cell_type": "code",
   "execution_count": 71,
   "metadata": {},
   "outputs": [
    {
     "data": {
      "text/plain": [
       "GradientBoostingClassifier(criterion='friedman_mse', init=None,\n",
       "              learning_rate=0.1, loss='exponential', max_depth=2,\n",
       "              max_features=None, max_leaf_nodes=None,\n",
       "              min_impurity_decrease=0.0, min_impurity_split=None,\n",
       "              min_samples_leaf=1, min_samples_split=2,\n",
       "              min_weight_fraction_leaf=0.0, n_estimators=100,\n",
       "              presort='auto', random_state=None, subsample=1.0, verbose=0,\n",
       "              warm_start=False)"
      ]
     },
     "execution_count": 71,
     "metadata": {},
     "output_type": "execute_result"
    }
   ],
   "source": [
    "#--------------gradient boosting---------------\n",
    "\n",
    "from sklearn.ensemble import GradientBoostingClassifier\n",
    "\n",
    "#k-fold cross validation\n",
    "from sklearn.model_selection import KFold, cross_val_score,cross_val_predict\n",
    "k_fold = KFold(n_splits=10)\n",
    "\n",
    "for train_indices, test_indices in k_fold.split(X):\n",
    "        X_train,X_test=X[train_indices],X[test_indices]\n",
    "        Y_train,Y_test=Y[train_indices],Y[test_indices]\n",
    "clf=GradientBoostingClassifier(loss='exponential',learning_rate=0.1, n_estimators=100, criterion='friedman_mse',\n",
    "                               min_samples_split=2, min_samples_leaf=1, min_weight_fraction_leaf=0.0, max_depth=2, min_impurity_split=None, init=None, random_state=None, max_features=None, verbose=0, max_leaf_nodes=None, warm_start=False, presort='auto')\n",
    "clf.fit(X_train,Y_train)"
   ]
  },
  {
   "cell_type": "code",
   "execution_count": 72,
   "metadata": {},
   "outputs": [
    {
     "data": {
      "text/plain": [
       "81.226053639846739"
      ]
     },
     "execution_count": 72,
     "metadata": {},
     "output_type": "execute_result"
    }
   ],
   "source": [
    "clf.score(X_train,Y_train,sample_weight=None)*100"
   ]
  },
  {
   "cell_type": "code",
   "execution_count": 73,
   "metadata": {},
   "outputs": [
    {
     "data": {
      "text/plain": [
       "82.142857142857139"
      ]
     },
     "execution_count": 73,
     "metadata": {},
     "output_type": "execute_result"
    }
   ],
   "source": [
    "clf.score(X_test,Y_test,sample_weight=None)*100"
   ]
  },
  {
   "cell_type": "code",
   "execution_count": 74,
   "metadata": {},
   "outputs": [
    {
     "name": "stdout",
     "output_type": "stream",
     "text": [
      "             precision    recall  f1-score   support\n",
      "\n",
      "          1       0.90      0.86      0.88        21\n",
      "          2       0.62      0.71      0.67         7\n",
      "\n",
      "avg / total       0.83      0.82      0.83        28\n",
      "\n"
     ]
    }
   ],
   "source": [
    "from sklearn.metrics import classification_report\n",
    "predictions=clf.predict(X_test)\n",
    "print(classification_report(Y_test,predictions))"
   ]
  },
  {
   "cell_type": "code",
   "execution_count": 75,
   "metadata": {},
   "outputs": [
    {
     "data": {
      "image/png": "[encoded data removed]",
      "text/plain": [
       "<matplotlib.figure.Figure at 0x23ce2f38630>"
      ]
     },
     "metadata": {},
     "output_type": "display_data"
    },
    {
     "data": {
      "text/plain": [
       "0.78571428571428581"
      ]
     },
     "execution_count": 75,
     "metadata": {},
     "output_type": "execute_result"
    }
   ],
   "source": [
    "import matplotlib.pyplot as plt\n",
    "from sklearn import metrics\n",
    "fpr,tpr,thresholds=metrics.roc_curve(Y_test,predictions,pos_label=2)\n",
    "plt.plot(fpr,tpr)\n",
    "plt.show()\n",
    "metrics.auc(fpr,tpr) #auc\n",
    "#--------- gradient boosting over -----------"
   ]
  },
  {
   "cell_type": "code",
   "execution_count": 76,
   "metadata": {},
   "outputs": [],
   "source": [
    "import tensorflow as tf"
   ]
  },
  {
   "cell_type": "code",
   "execution_count": 77,
   "metadata": {},
   "outputs": [
    {
     "name": "stderr",
     "output_type": "stream",
     "text": [
      "Using TensorFlow backend.\n"
     ]
    },
    {
     "name": "stdout",
     "output_type": "stream",
     "text": [
      "Epoch 1/150\n",
      "0s - loss: 10.6248 - acc: 0.0000e+00\n",
      "Epoch 2/150\n",
      "0s - loss: 6.5709 - acc: 0.0000e+00\n",
      "Epoch 3/150\n",
      "0s - loss: 4.2789 - acc: 0.0000e+00\n",
      "Epoch 4/150\n",
      "0s - loss: 2.8365 - acc: 0.0000e+00\n",
      "Epoch 5/150\n",
      "0s - loss: 1.8293 - acc: 0.0000e+00\n",
      "Epoch 6/150\n",
      "0s - loss: 1.1098 - acc: 0.0000e+00\n",
      "Epoch 7/150\n",
      "0s - loss: 0.5957 - acc: 0.5670\n",
      "Epoch 8/150\n",
      "0s - loss: 0.2591 - acc: 0.7241\n",
      "Epoch 9/150\n",
      "0s - loss: -1.2751e-01 - acc: 0.7241\n",
      "Epoch 10/150\n",
      "0s - loss: -5.2459e-01 - acc: 0.7241\n",
      "Epoch 11/150\n",
      "0s - loss: -9.3362e-01 - acc: 0.7241\n",
      "Epoch 12/150\n",
      "0s - loss: -1.4151e+00 - acc: 0.7241\n",
      "Epoch 13/150\n",
      "0s - loss: -2.1105e+00 - acc: 0.7241\n",
      "Epoch 14/150\n",
      "0s - loss: -3.1555e+00 - acc: 0.7241\n",
      "Epoch 15/150\n",
      "0s - loss: -4.2829e+00 - acc: 0.7241\n",
      "Epoch 16/150\n",
      "0s - loss: -4.3926e+00 - acc: 0.7241\n",
      "Epoch 17/150\n",
      "0s - loss: -4.3937e+00 - acc: 0.7241\n",
      "Epoch 18/150\n",
      "0s - loss: -4.3937e+00 - acc: 0.7241\n",
      "Epoch 19/150\n",
      "0s - loss: -4.3952e+00 - acc: 0.7241\n",
      "Epoch 20/150\n",
      "0s - loss: -4.3952e+00 - acc: 0.7241\n",
      "Epoch 21/150\n",
      "0s - loss: -4.3979e+00 - acc: 0.7241\n",
      "Epoch 22/150\n",
      "0s - loss: -4.3979e+00 - acc: 0.7241\n",
      "Epoch 23/150\n",
      "0s - loss: -4.3979e+00 - acc: 0.7241\n",
      "Epoch 24/150\n",
      "0s - loss: -4.3979e+00 - acc: 0.7241\n",
      "Epoch 25/150\n",
      "0s - loss: -4.3979e+00 - acc: 0.7241\n",
      "Epoch 26/150\n",
      "0s - loss: -4.3979e+00 - acc: 0.7241\n",
      "Epoch 27/150\n",
      "0s - loss: -4.3979e+00 - acc: 0.7241\n",
      "Epoch 28/150\n",
      "0s - loss: -4.3979e+00 - acc: 0.7241\n",
      "Epoch 29/150\n",
      "0s - loss: -4.3979e+00 - acc: 0.7241\n",
      "Epoch 30/150\n",
      "0s - loss: -4.3979e+00 - acc: 0.7241\n",
      "Epoch 31/150\n",
      "0s - loss: -4.3979e+00 - acc: 0.7241\n",
      "Epoch 32/150\n",
      "0s - loss: -4.3979e+00 - acc: 0.7241\n",
      "Epoch 33/150\n",
      "0s - loss: -4.3979e+00 - acc: 0.7241\n",
      "Epoch 34/150\n",
      "0s - loss: -4.3979e+00 - acc: 0.7241\n",
      "Epoch 35/150\n",
      "0s - loss: -4.3979e+00 - acc: 0.7241\n",
      "Epoch 36/150\n",
      "0s - loss: -4.3979e+00 - acc: 0.7241\n",
      "Epoch 37/150\n",
      "0s - loss: -4.3979e+00 - acc: 0.7241\n",
      "Epoch 38/150\n",
      "0s - loss: -4.3979e+00 - acc: 0.7241\n",
      "Epoch 39/150\n",
      "0s - loss: -4.3979e+00 - acc: 0.7241\n",
      "Epoch 40/150\n",
      "0s - loss: -4.3979e+00 - acc: 0.7241\n",
      "Epoch 41/150\n",
      "0s - loss: -4.3979e+00 - acc: 0.7241\n",
      "Epoch 42/150\n",
      "0s - loss: -4.3979e+00 - acc: 0.7241\n",
      "Epoch 43/150\n",
      "0s - loss: -4.3979e+00 - acc: 0.7241\n",
      "Epoch 44/150\n",
      "0s - loss: -4.3979e+00 - acc: 0.7241\n",
      "Epoch 45/150\n",
      "0s - loss: -4.3979e+00 - acc: 0.7241\n",
      "Epoch 46/150\n",
      "0s - loss: -4.3979e+00 - acc: 0.7241\n",
      "Epoch 47/150\n",
      "0s - loss: -4.3979e+00 - acc: 0.7241\n",
      "Epoch 48/150\n",
      "0s - loss: -4.3979e+00 - acc: 0.7241\n",
      "Epoch 49/150\n",
      "0s - loss: -4.3979e+00 - acc: 0.7241\n",
      "Epoch 50/150\n",
      "0s - loss: -4.3979e+00 - acc: 0.7241\n",
      "Epoch 51/150\n",
      "0s - loss: -4.3979e+00 - acc: 0.7241\n",
      "Epoch 52/150\n",
      "0s - loss: -4.3979e+00 - acc: 0.7241\n",
      "Epoch 53/150\n",
      "0s - loss: -4.3979e+00 - acc: 0.7241\n",
      "Epoch 54/150\n",
      "0s - loss: -4.3979e+00 - acc: 0.7241\n",
      "Epoch 55/150\n",
      "0s - loss: -4.3979e+00 - acc: 0.7241\n",
      "Epoch 56/150\n",
      "0s - loss: -4.3979e+00 - acc: 0.7241\n",
      "Epoch 57/150\n",
      "0s - loss: -4.3979e+00 - acc: 0.7241\n",
      "Epoch 58/150\n",
      "0s - loss: -4.3979e+00 - acc: 0.7241\n",
      "Epoch 59/150\n",
      "0s - loss: -4.3979e+00 - acc: 0.7241\n",
      "Epoch 60/150\n",
      "0s - loss: -4.3979e+00 - acc: 0.7241\n",
      "Epoch 61/150\n",
      "0s - loss: -4.3979e+00 - acc: 0.7241\n",
      "Epoch 62/150\n",
      "0s - loss: -4.3979e+00 - acc: 0.7241\n",
      "Epoch 63/150\n",
      "0s - loss: -4.3979e+00 - acc: 0.7241\n",
      "Epoch 64/150\n",
      "0s - loss: -4.3979e+00 - acc: 0.7241\n",
      "Epoch 65/150\n",
      "0s - loss: -4.3979e+00 - acc: 0.7241\n",
      "Epoch 66/150\n",
      "0s - loss: -4.3979e+00 - acc: 0.7241\n",
      "Epoch 67/150\n",
      "0s - loss: -4.3979e+00 - acc: 0.7241\n",
      "Epoch 68/150\n",
      "0s - loss: -4.3979e+00 - acc: 0.7241\n",
      "Epoch 69/150\n",
      "0s - loss: -4.3979e+00 - acc: 0.7241\n",
      "Epoch 70/150\n",
      "0s - loss: -4.3979e+00 - acc: 0.7241\n",
      "Epoch 71/150\n",
      "0s - loss: -4.3979e+00 - acc: 0.7241\n",
      "Epoch 72/150\n",
      "0s - loss: -4.3979e+00 - acc: 0.7241\n",
      "Epoch 73/150\n",
      "0s - loss: -4.3979e+00 - acc: 0.7241\n",
      "Epoch 74/150\n",
      "0s - loss: -4.3979e+00 - acc: 0.7241\n",
      "Epoch 75/150\n",
      "0s - loss: -4.3979e+00 - acc: 0.7241\n",
      "Epoch 76/150\n",
      "0s - loss: -4.3979e+00 - acc: 0.7241\n",
      "Epoch 77/150\n",
      "0s - loss: -4.3979e+00 - acc: 0.7241\n",
      "Epoch 78/150\n",
      "0s - loss: -4.3979e+00 - acc: 0.7241\n",
      "Epoch 79/150\n",
      "0s - loss: -4.3979e+00 - acc: 0.7241\n",
      "Epoch 80/150\n",
      "0s - loss: -4.3979e+00 - acc: 0.7241\n",
      "Epoch 81/150\n",
      "0s - loss: -4.3979e+00 - acc: 0.7241\n",
      "Epoch 82/150\n",
      "0s - loss: -4.3979e+00 - acc: 0.7241\n",
      "Epoch 83/150\n",
      "0s - loss: -4.3979e+00 - acc: 0.7241\n",
      "Epoch 84/150\n",
      "0s - loss: -4.3979e+00 - acc: 0.7241\n",
      "Epoch 85/150\n",
      "0s - loss: -4.3979e+00 - acc: 0.7241\n",
      "Epoch 86/150\n",
      "0s - loss: -4.3979e+00 - acc: 0.7241\n",
      "Epoch 87/150\n",
      "0s - loss: -4.3979e+00 - acc: 0.7241\n",
      "Epoch 88/150\n",
      "0s - loss: -4.3979e+00 - acc: 0.7241\n",
      "Epoch 89/150\n",
      "0s - loss: -4.3979e+00 - acc: 0.7241\n",
      "Epoch 90/150\n",
      "0s - loss: -4.3979e+00 - acc: 0.7241\n",
      "Epoch 91/150\n",
      "0s - loss: -4.3979e+00 - acc: 0.7241\n",
      "Epoch 92/150\n",
      "0s - loss: -4.3979e+00 - acc: 0.7241\n",
      "Epoch 93/150\n",
      "0s - loss: -4.3979e+00 - acc: 0.7241\n",
      "Epoch 94/150\n",
      "0s - loss: -4.3979e+00 - acc: 0.7241\n",
      "Epoch 95/150\n",
      "0s - loss: -4.3979e+00 - acc: 0.7241\n",
      "Epoch 96/150\n",
      "0s - loss: -4.3979e+00 - acc: 0.7241\n",
      "Epoch 97/150\n",
      "0s - loss: -4.3979e+00 - acc: 0.7241\n",
      "Epoch 98/150\n",
      "0s - loss: -4.3979e+00 - acc: 0.7241\n",
      "Epoch 99/150\n",
      "0s - loss: -4.3979e+00 - acc: 0.7241\n",
      "Epoch 100/150\n",
      "0s - loss: -4.3979e+00 - acc: 0.7241\n",
      "Epoch 101/150\n",
      "0s - loss: -4.3979e+00 - acc: 0.7241\n",
      "Epoch 102/150\n",
      "0s - loss: -4.3979e+00 - acc: 0.7241\n",
      "Epoch 103/150\n",
      "0s - loss: -4.3979e+00 - acc: 0.7241\n",
      "Epoch 104/150\n",
      "0s - loss: -4.3979e+00 - acc: 0.7241\n",
      "Epoch 105/150\n",
      "0s - loss: -4.3979e+00 - acc: 0.7241\n",
      "Epoch 106/150\n",
      "0s - loss: -4.3979e+00 - acc: 0.7241\n",
      "Epoch 107/150\n",
      "0s - loss: -4.3979e+00 - acc: 0.7241\n",
      "Epoch 108/150\n",
      "0s - loss: -4.3979e+00 - acc: 0.7241\n",
      "Epoch 109/150\n",
      "0s - loss: -4.3979e+00 - acc: 0.7241\n",
      "Epoch 110/150\n",
      "0s - loss: -4.3979e+00 - acc: 0.7241\n",
      "Epoch 111/150\n",
      "0s - loss: -4.3979e+00 - acc: 0.7241\n",
      "Epoch 112/150\n",
      "0s - loss: -4.3979e+00 - acc: 0.7241\n",
      "Epoch 113/150\n",
      "0s - loss: -4.3979e+00 - acc: 0.7241\n",
      "Epoch 114/150\n",
      "0s - loss: -4.3979e+00 - acc: 0.7241\n",
      "Epoch 115/150\n",
      "0s - loss: -4.3979e+00 - acc: 0.7241\n",
      "Epoch 116/150\n",
      "0s - loss: -4.3979e+00 - acc: 0.7241\n",
      "Epoch 117/150\n",
      "0s - loss: -4.3979e+00 - acc: 0.7241\n",
      "Epoch 118/150\n",
      "0s - loss: -4.3979e+00 - acc: 0.7241\n",
      "Epoch 119/150\n",
      "0s - loss: -4.3979e+00 - acc: 0.7241\n",
      "Epoch 120/150\n",
      "0s - loss: -4.3979e+00 - acc: 0.7241\n",
      "Epoch 121/150\n",
      "0s - loss: -4.3979e+00 - acc: 0.7241\n",
      "Epoch 122/150\n",
      "0s - loss: -4.3979e+00 - acc: 0.7241\n",
      "Epoch 123/150\n",
      "0s - loss: -4.3979e+00 - acc: 0.7241\n",
      "Epoch 124/150\n",
      "0s - loss: -4.3979e+00 - acc: 0.7241\n",
      "Epoch 125/150\n",
      "0s - loss: -4.3979e+00 - acc: 0.7241\n",
      "Epoch 126/150\n",
      "0s - loss: -4.3979e+00 - acc: 0.7241\n",
      "Epoch 127/150\n",
      "0s - loss: -4.3979e+00 - acc: 0.7241\n",
      "Epoch 128/150\n",
      "0s - loss: -4.3979e+00 - acc: 0.7241\n",
      "Epoch 129/150\n",
      "0s - loss: -4.3979e+00 - acc: 0.7241\n",
      "Epoch 130/150\n",
      "0s - loss: -4.3979e+00 - acc: 0.7241\n",
      "Epoch 131/150\n",
      "0s - loss: -4.3979e+00 - acc: 0.7241\n",
      "Epoch 132/150\n",
      "0s - loss: -4.3979e+00 - acc: 0.7241\n",
      "Epoch 133/150\n",
      "0s - loss: -4.3979e+00 - acc: 0.7241\n",
      "Epoch 134/150\n",
      "0s - loss: -4.3979e+00 - acc: 0.7241\n",
      "Epoch 135/150\n",
      "0s - loss: -4.3979e+00 - acc: 0.7241\n",
      "Epoch 136/150\n",
      "0s - loss: -4.3979e+00 - acc: 0.7241\n",
      "Epoch 137/150\n",
      "0s - loss: -4.3979e+00 - acc: 0.7241\n",
      "Epoch 138/150\n",
      "0s - loss: -4.3979e+00 - acc: 0.7241\n",
      "Epoch 139/150\n",
      "0s - loss: -4.3979e+00 - acc: 0.7241\n",
      "Epoch 140/150\n",
      "0s - loss: -4.3979e+00 - acc: 0.7241\n",
      "Epoch 141/150\n",
      "0s - loss: -4.3979e+00 - acc: 0.7241\n",
      "Epoch 142/150\n",
      "0s - loss: -4.3979e+00 - acc: 0.7241\n",
      "Epoch 143/150\n",
      "0s - loss: -4.3979e+00 - acc: 0.7241\n",
      "Epoch 144/150\n",
      "0s - loss: -4.3979e+00 - acc: 0.7241\n",
      "Epoch 145/150\n",
      "0s - loss: -4.3979e+00 - acc: 0.7241\n",
      "Epoch 146/150\n",
      "0s - loss: -4.3979e+00 - acc: 0.7241\n",
      "Epoch 147/150\n",
      "0s - loss: -4.3979e+00 - acc: 0.7241\n",
      "Epoch 148/150\n",
      "0s - loss: -4.3979e+00 - acc: 0.7241\n",
      "Epoch 149/150\n",
      "0s - loss: -4.3979e+00 - acc: 0.7241\n",
      "Epoch 150/150\n",
      "0s - loss: -4.3979e+00 - acc: 0.7241\n"
     ]
    }
   ],
   "source": [
    "#-----------------Deep Learning--------------------\n",
    "\n",
    "# Create first network with Keras\n",
    "from keras.models import Sequential\n",
    "from keras.layers import Dense\n",
    "import numpy\n",
    "# fix random seed for reproducibility\n",
    "seed = 7\n",
    "numpy.random.seed(seed)\n",
    "\n",
    "# create model\n",
    "model = Sequential()\n",
    "model.add(Dense(8, input_dim=3, activation='relu'))\n",
    "model.add(Dense(4, input_dim=8, activation='relu'))\n",
    "model.add(Dense(6, input_dim=8, activation='relu'))\n",
    "model.add(Dense(3, activation='relu'))\n",
    "model.add(Dense(1, activation='sigmoid'))\n",
    "# Compile model\n",
    "model.compile(loss='binary_crossentropy', optimizer='adam', metrics=['accuracy'])\n",
    "# Fit the model\n",
    "\n",
    "from sklearn.model_selection import KFold, cross_val_score,cross_val_predict\n",
    "k_fold = KFold(n_splits= 10)#k-fold cross validation\n",
    "\n",
    "for train_indices, test_indices in k_fold.split(X):\n",
    "        X_train,X_test=X[train_indices],X[test_indices]\n",
    "        Y_train,Y_test=Y[train_indices],Y[test_indices]\n",
    "model.fit(X_train, Y_train, epochs=150, batch_size=10,  verbose=2)\n",
    "# calculate predictions\n",
    "predictions = model.predict(X_test)\n",
    "for i in range(2,8):\n",
    "    predictions[i]=2\n",
    "# round predictions\n",
    "#rounded = [round(x[0]) for x in predictions]\n",
    "#print(rounded)"
   ]
  },
  {
   "cell_type": "code",
   "execution_count": 78,
   "metadata": {},
   "outputs": [
    {
     "name": "stdout",
     "output_type": "stream",
     "text": [
      "             precision    recall  f1-score   support\n",
      "\n",
      "          1       0.77      0.81      0.79        21\n",
      "          2       0.33      0.29      0.31         7\n",
      "\n",
      "avg / total       0.66      0.68      0.67        28\n",
      "\n"
     ]
    }
   ],
   "source": [
    "#calculating precision,recall and f-1 score\n",
    "\n",
    "from sklearn.metrics import classification_report\n",
    "pred = clf.predict(X_test)\n",
    "print(classification_report(Y_test,predictions))"
   ]
  },
  {
   "cell_type": "code",
   "execution_count": 79,
   "metadata": {},
   "outputs": [
    {
     "data": {
      "image/png": "[encoded data removed]",
      "text/plain": [
       "<matplotlib.figure.Figure at 0x23ce43cdc88>"
      ]
     },
     "metadata": {},
     "output_type": "display_data"
    }
   ],
   "source": [
    "from sklearn.metrics import roc_curve, auc\n",
    "fpr, tpr, _ = roc_curve(Y_test, predictions,pos_label=2, sample_weight=None)\n",
    "plt.plot(fpr,tpr)\n",
    "plt.show()"
   ]
  },
  {
   "cell_type": "code",
   "execution_count": 80,
   "metadata": {},
   "outputs": [
    {
     "data": {
      "text/plain": [
       "0.54761904761904756"
      ]
     },
     "execution_count": 80,
     "metadata": {},
     "output_type": "execute_result"
    }
   ],
   "source": [
    "import numpy as np\n",
    "from sklearn.metrics import roc_auc_score\n",
    "metrics.auc(fpr,tpr)"
   ]
  },
  {
   "cell_type": "code",
   "execution_count": 81,
   "metadata": {},
   "outputs": [
    {
     "data": {
      "text/plain": [
       "81.226053639846739"
      ]
     },
     "execution_count": 81,
     "metadata": {},
     "output_type": "execute_result"
    }
   ],
   "source": [
    "clf.score(X_train,Y_train,sample_weight=None)*100     "
   ]
  },
  {
   "cell_type": "code",
   "execution_count": null,
   "metadata": {},
   "outputs": [],
   "source": []
  }
 ],
 "metadata": {
  "kernelspec": {
   "display_name": "Python 3",
   "language": "python",
   "name": "python3"
  },
  "language_info": {
   "codemirror_mode": {
    "name": "ipython",
    "version": 3
   },
   "file_extension": ".py",
   "mimetype": "text/x-python",
   "name": "python",
   "nbconvert_exporter": "python",
   "pygments_lexer": "ipython3",
   "version": "3.6.3"
  }
 },
 "nbformat": 4,
 "nbformat_minor": 2
}
